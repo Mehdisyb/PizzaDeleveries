{
  "cells": [
    {
      "cell_type": "code",
      "execution_count": 1,
      "metadata": {
        "colab": {
          "base_uri": "https://localhost:8080/"
        },
        "id": "DXYdMeIFHC90",
        "outputId": "e0b8d4e5-7f3b-427f-c217-8feed267e164"
      },
      "outputs": [
        {
          "name": "stdout",
          "output_type": "stream",
          "text": [
            " Welcome to Python Pizza deliveries \n"
          ]
        }
      ],
      "source": [
        "print(\" Welcome to Python Pizza deliveries \")"
      ]
    },
    {
      "cell_type": "code",
      "execution_count": 2,
      "metadata": {
        "colab": {
          "base_uri": "https://localhost:8080/"
        },
        "id": "4xM-da3THoyw",
        "outputId": "43383ac9-42ed-4358-84b5-f0e88ad4db42"
      },
      "outputs": [
        {
          "name": "stdout",
          "output_type": "stream",
          "text": [
            "what's your pizza's size ? ( S \\ M \\ L ) M\n"
          ]
        }
      ],
      "source": [
        "size = input(\"what's your pizza's size ? ( S \\ M \\ L ) \" )"
      ]
    },
    {
      "cell_type": "code",
      "execution_count": 3,
      "metadata": {
        "colab": {
          "base_uri": "https://localhost:8080/"
        },
        "id": "iU67wgv8IHqW",
        "outputId": "1a334c66-3df6-4187-c1ca-d924ae0be00b"
      },
      "outputs": [
        {
          "name": "stdout",
          "output_type": "stream",
          "text": [
            "do you want pepperoni in your pizza ? (Y \\ N) Y\n"
          ]
        }
      ],
      "source": [
        "add_pepperoni = input(\"do you want pepperoni in your pizza ? (Y \\ N) \")"
      ]
    },
    {
      "cell_type": "code",
      "execution_count": 4,
      "metadata": {
        "colab": {
          "base_uri": "https://localhost:8080/"
        },
        "id": "HLnk_bdSaYup",
        "outputId": "b4f19281-d37e-498d-f204-ae76fcc79d92"
      },
      "outputs": [
        {
          "name": "stdout",
          "output_type": "stream",
          "text": [
            "do you want extra_chesse ? (Y \\ N) Y\n"
          ]
        }
      ],
      "source": [
        "extra_chesse = input(\"do you want extra_chesse ? (Y \\ N) \")"
      ]
    },
    {
      "cell_type": "code",
      "execution_count": 7,
      "metadata": {
        "colab": {
          "base_uri": "https://localhost:8080/"
        },
        "id": "obhWR5tlaZKN",
        "outputId": "ff622d1a-2b1d-4e8b-e23b-4e0a84c2ec51"
      },
      "outputs": [
        {
          "name": "stdout",
          "output_type": "stream",
          "text": [
            "Your final bill is: $24.\n"
          ]
        }
      ],
      "source": [
        "bill = 0\n",
        "if size == \"S\":\n",
        "    bill = 15\n",
        "elif size == \"M\":\n",
        "    bill = 20\n",
        "elif size == \"L\":\n",
        "    bill = 25\n",
        "else:\n",
        "    print(\"Invalid size of your pizza\")\n",
        "    exit()\n",
        "if add_pepperoni == \"Y\":\n",
        "    if size == \"L\" or size == \"M\":\n",
        "        bill += 3\n",
        "    elif size == \"S\":\n",
        "        bill += 2\n",
        "if extra_chesse == \"Y\":\n",
        "    bill += 1\n",
        "print(\"Your final bill is: $\" + str(bill) + \".\")"
      ]
    }
  ],
  "metadata": {
    "colab": {
      "provenance": []
    },
    "kernelspec": {
      "display_name": "Python 3",
      "name": "python3"
    },
    "language_info": {
      "name": "python"
    }
  },
  "nbformat": 4,
  "nbformat_minor": 0
}
